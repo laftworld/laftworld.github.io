{
 "cells": [
  {
   "cell_type": "code",
   "execution_count": 3,
   "metadata": {},
   "outputs": [
    {
     "name": "stdout",
     "output_type": "stream",
     "text": [
      "Coefficients: \n",
      " [938.23786125]\n",
      "Mean squared error: 2548.07\n",
      "Variance score: 0.47\n"
     ]
    },
    {
     "data": {
      "image/png": "[encoded data removed]",
      "text/plain": [
       "<Figure size 432x288 with 1 Axes>"
      ]
     },
     "metadata": {
      "needs_background": "light"
     },
     "output_type": "display_data"
    }
   ],
   "source": [
    "import matplotlib.pyplot as plt\n",
    "import numpy as np\n",
    "from sklearn import datasets, linear_model, metrics\n",
    "\n",
    "diabetes = datasets.load_diabetes() # Load the diabetes dataset\n",
    "diabetes_X = diabetes.data[:, np.newaxis, 2] # Use only one feature\n",
    "diabetes_X_train, diabetes_y_train = diabetes_X[:-20], diabetes.target[:-20]\n",
    "diabetes_X_test, diabetes_y_test = diabetes_X[-20:], diabetes.target[-20:]\n",
    "\n",
    "regr = linear_model.LinearRegression() # Create linear regression object\n",
    "regr.fit(diabetes_X_train, diabetes_y_train) # Train the model using the training sets\n",
    "diabetes_y_pred = regr.predict(diabetes_X_test) # Make predictions using the testing set\n",
    "\n",
    "print('Coefficients: \\n', regr.coef_)\n",
    "print(\"Mean squared error: %.2f\" % metrics.mean_squared_error(diabetes_y_test, diabetes_y_pred))\n",
    "print('Variance score: %.2f' % metrics.r2_score(diabetes_y_test, diabetes_y_pred))\n",
    "\n",
    "plt.scatter(diabetes_X_test, diabetes_y_test,  color='black')\n",
    "plt.plot(diabetes_X_test, diabetes_y_pred, color='blue', linewidth=3)\n",
    "plt.show()"
   ]
  },
  {
   "cell_type": "markdown",
   "metadata": {},
   "source": [
    "Means squared error: $\\text{MSE} (y, \\hat{y}) = \\frac{1}{n}\\sum^n_{i=1}(y_i-\\hat{y})^2$\n",
    "\n",
    "$R^2$ score (Variance score): $R^2(y, \\hat{y}) = 1-\\frac{\\sum^n_{i=1}(y_i-\\hat{y})^2}{\\sum^n_{i=1}(y_i-\\bar{y})^2}$"
   ]
  },
  {
   "cell_type": "markdown",
   "metadata": {},
   "source": [
    "Means squared error: $\\text{MSE} (y, \\hat{y}) = \\frac{1}{n}\\sum^n_{i=1}(y_i-\\hat{y})^2$\n",
    "\n",
    "$R^2$ score (Variance score): $R^2(y, \\hat{y}) = 1-\\frac{\\sum^n_{i=1}(y_i-\\hat{y})^2}{\\sum^n_{i=1}(y_i-\\bar{y})^2}$"
   ]
  }
 ],
 "metadata": {
  "kernelspec": {
   "display_name": "Python 3",
   "language": "python",
   "name": "python3"
  },
  "language_info": {
   "codemirror_mode": {
    "name": "ipython",
    "version": 3
   },
   "file_extension": ".py",
   "mimetype": "text/x-python",
   "name": "python",
   "nbconvert_exporter": "python",
   "pygments_lexer": "ipython3",
   "version": "3.6.4"
  }
 },
 "nbformat": 4,
 "nbformat_minor": 2
}
